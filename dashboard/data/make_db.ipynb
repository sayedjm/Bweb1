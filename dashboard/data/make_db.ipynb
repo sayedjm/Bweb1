{
 "cells": [
  {
   "cell_type": "code",
   "execution_count": 25,
   "id": "359e5b9d-a926-4bef-b93d-f36b552ac8eb",
   "metadata": {
    "ExecuteTime": {
     "end_time": "2024-03-05T16:14:05.564716Z",
     "start_time": "2024-03-05T16:14:05.562935Z"
    }
   },
   "outputs": [],
   "source": [
    "import sqlite3\n",
    "import pandas as pd\n",
    "import os"
   ]
  },
  {
   "cell_type": "code",
   "execution_count": 26,
   "id": "a4151eec-b696-4616-b3bd-1a74f6d73f63",
   "metadata": {
    "ExecuteTime": {
     "end_time": "2024-03-05T16:14:06.907183Z",
     "start_time": "2024-03-05T16:14:05.907791Z"
    }
   },
   "outputs": [
    {
     "name": "stderr",
     "output_type": "stream",
     "text": [
      "/var/folders/c8/ccw3vxs9797f7qr5c791pdfm0000gn/T/ipykernel_9440/2142007344.py:1: DtypeWarning: Columns (3) have mixed types. Specify dtype option on import or set low_memory=False.\n",
      "  data_corona = pd.read_csv(\"covid_19.csv\", sep=\",\")\n"
     ]
    }
   ],
   "source": [
    "data_corona = pd.read_csv(\"covid_19.csv\", sep=\",\")\n",
    "cxn = sqlite3.connect('db.sqlite3')\n",
    "cxn.cursor().executescript('drop table if exists dashboard_coviddata;')\n",
    "data_corona.to_sql('dashboard_coviddata', cxn, index = False)\n",
    "cxn.close()"
   ]
  }
 ],
 "metadata": {
  "kernelspec": {
   "display_name": "Python 3 (ipykernel)",
   "language": "python",
   "name": "python3"
  },
  "language_info": {
   "codemirror_mode": {
    "name": "ipython",
    "version": 3
   },
   "file_extension": ".py",
   "mimetype": "text/x-python",
   "name": "python",
   "nbconvert_exporter": "python",
   "pygments_lexer": "ipython3",
   "version": "3.11.1"
  }
 },
 "nbformat": 4,
 "nbformat_minor": 5
}
